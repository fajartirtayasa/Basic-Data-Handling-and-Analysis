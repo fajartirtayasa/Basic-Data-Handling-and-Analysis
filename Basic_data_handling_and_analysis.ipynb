{
 "cells": [
  {
   "cell_type": "code",
   "execution_count": 61,
   "id": "156c3927",
   "metadata": {},
   "outputs": [],
   "source": [
    "import pandas as pd\n",
    "df_1 = pd.read_csv(\"/Data Science/Data Scientist Intern @Home Credit Indonesia/Task 2 - HCI Previous Application.csv\")\n",
    "df_2 = pd.read_csv(\"/Data Science/Data Scientist Intern @Home Credit Indonesia/Task 2 - HCI Application.csv\")"
   ]
  },
  {
   "cell_type": "markdown",
   "id": "c93c4bb8",
   "metadata": {},
   "source": [
    "Ket: df_1 adalah dataframe yang berisi data pengajuan pinjaman, sedangkan df_2 adalah dataframe yang berisi informasi setiap SK_ID_CURR yang mengajukan pinjaman"
   ]
  },
  {
   "attachments": {
    "Task%202%20-%20Entity%20Relationship.png": {
     "image/png": "[encoded data removed]"
    }
   },
   "cell_type": "markdown",
   "id": "5da33fc7",
   "metadata": {},
   "source": [
    "![Task%202%20-%20Entity%20Relationship.png](attachment:Task%202%20-%20Entity%20Relationship.png)"
   ]
  },
  {
   "cell_type": "markdown",
   "id": "2c6aebe1",
   "metadata": {},
   "source": [
    "#### Gabungkan df_1 dan df_2 dengan LEFT JOIN"
   ]
  },
  {
   "cell_type": "code",
   "execution_count": 62,
   "id": "47f08622",
   "metadata": {},
   "outputs": [
    {
     "name": "stdout",
     "output_type": "stream",
     "text": [
      "Ukuran awal df_1: (113697, 5)\n",
      "Ukuran awal df_2: (23714, 6)\n",
      "Ukuran df hasil LEFT JOIN df_1 dan df_2: (113697, 10)\n"
     ]
    }
   ],
   "source": [
    "df = pd.merge(df_1, df_2, on=\"SK_ID_CURR\", how=\"left\")\n",
    "\n",
    "print(\"Ukuran awal df_1: {}\".format(df_1.shape))\n",
    "print(\"Ukuran awal df_2: {}\".format(df_2.shape))\n",
    "print(\"Ukuran df hasil LEFT JOIN df_1 dan df_2: {}\".format(df.shape))"
   ]
  },
  {
   "cell_type": "markdown",
   "id": "beaeb368",
   "metadata": {},
   "source": [
    "# EXPLORATORY DATA ANALYSIS"
   ]
  },
  {
   "cell_type": "markdown",
   "id": "a12f7620",
   "metadata": {},
   "source": [
    "#### Column Description\n",
    "\n",
    "1. SK_ID_CURR : ID of loan in our sample\n",
    "2. TARGET : Target variable (1 - client with payment difficulties: he/she had late payment more than X days on at least one of the first Y installments of the loan in our sample, 0 - all other cases)\n",
    "3. CODE_GENDER : Gender of the client\n",
    "4. FLAG_OWN_CAR : Flag if the client owns a car\n",
    "5. FLAG_OWN_REALTY : Flag if client owns a house or flat\n",
    "6. CNT_CHILDREN : Number of children the client has\n",
    "7. SK_ID_PREV : ID of previous credit in Home credit related to loan in our sample. (One loan in our sample can have 0,1,2 or more previous loan applications in Home Credit, previous application could, but not necessarily have to lead to credit)\n",
    "8. SK_ID_CURR : ID of loan in our sample\n",
    "9. NAME_CONTRACT_TYPE : Contract product type (Cash loan, consumer loan [POS] ,...) of the previous application\n",
    "10. AMT_APPLICATION : For how much credit did client ask on the previous application\n",
    "11. NAME_CONTRACT_STATUS : Contract status (approved, cancelled, ...) of previous application"
   ]
  },
  {
   "cell_type": "markdown",
   "id": "7a1f9fae",
   "metadata": {},
   "source": [
    "#### Mengecek 5 data teratas dan 5 data terbawah df"
   ]
  },
  {
   "cell_type": "code",
   "execution_count": 63,
   "id": "0cc70154",
   "metadata": {},
   "outputs": [
    {
     "data": {
      "text/html": [
       "<div>\n",
       "<style scoped>\n",
       "    .dataframe tbody tr th:only-of-type {\n",
       "        vertical-align: middle;\n",
       "    }\n",
       "\n",
       "    .dataframe tbody tr th {\n",
       "        vertical-align: top;\n",
       "    }\n",
       "\n",
       "    .dataframe thead th {\n",
       "        text-align: right;\n",
       "    }\n",
       "</style>\n",
       "<table border=\"1\" class=\"dataframe\">\n",
       "  <thead>\n",
       "    <tr style=\"text-align: right;\">\n",
       "      <th></th>\n",
       "      <th>SK_ID_PREV</th>\n",
       "      <th>SK_ID_CURR</th>\n",
       "      <th>NAME_CONTRACT_TYPE</th>\n",
       "      <th>AMT_APPLICATION</th>\n",
       "      <th>NAME_CONTRACT_STATUS</th>\n",
       "      <th>TARGET</th>\n",
       "      <th>CODE_GENDER</th>\n",
       "      <th>FLAG_OWN_CAR</th>\n",
       "      <th>FLAG_OWN_REALTY</th>\n",
       "      <th>CNT_CHILDREN</th>\n",
       "    </tr>\n",
       "  </thead>\n",
       "  <tbody>\n",
       "    <tr>\n",
       "      <th>0</th>\n",
       "      <td>1038818</td>\n",
       "      <td>100002</td>\n",
       "      <td>Consumer loans</td>\n",
       "      <td>179055.0</td>\n",
       "      <td>Approved</td>\n",
       "      <td>1</td>\n",
       "      <td>F</td>\n",
       "      <td>N</td>\n",
       "      <td>Y</td>\n",
       "      <td>0</td>\n",
       "    </tr>\n",
       "    <tr>\n",
       "      <th>1</th>\n",
       "      <td>1810518</td>\n",
       "      <td>100003</td>\n",
       "      <td>Cash loans</td>\n",
       "      <td>900000.0</td>\n",
       "      <td>Approved</td>\n",
       "      <td>0</td>\n",
       "      <td>F</td>\n",
       "      <td>N</td>\n",
       "      <td>N</td>\n",
       "      <td>0</td>\n",
       "    </tr>\n",
       "    <tr>\n",
       "      <th>2</th>\n",
       "      <td>2636178</td>\n",
       "      <td>100003</td>\n",
       "      <td>Consumer loans</td>\n",
       "      <td>337500.0</td>\n",
       "      <td>Approved</td>\n",
       "      <td>0</td>\n",
       "      <td>F</td>\n",
       "      <td>N</td>\n",
       "      <td>N</td>\n",
       "      <td>0</td>\n",
       "    </tr>\n",
       "    <tr>\n",
       "      <th>3</th>\n",
       "      <td>2396755</td>\n",
       "      <td>100003</td>\n",
       "      <td>Consumer loans</td>\n",
       "      <td>68809.5</td>\n",
       "      <td>Approved</td>\n",
       "      <td>0</td>\n",
       "      <td>F</td>\n",
       "      <td>N</td>\n",
       "      <td>N</td>\n",
       "      <td>0</td>\n",
       "    </tr>\n",
       "    <tr>\n",
       "      <th>4</th>\n",
       "      <td>1564014</td>\n",
       "      <td>100004</td>\n",
       "      <td>Consumer loans</td>\n",
       "      <td>24282.0</td>\n",
       "      <td>Approved</td>\n",
       "      <td>0</td>\n",
       "      <td>F</td>\n",
       "      <td>Y</td>\n",
       "      <td>Y</td>\n",
       "      <td>0</td>\n",
       "    </tr>\n",
       "    <tr>\n",
       "      <th>...</th>\n",
       "      <td>...</td>\n",
       "      <td>...</td>\n",
       "      <td>...</td>\n",
       "      <td>...</td>\n",
       "      <td>...</td>\n",
       "      <td>...</td>\n",
       "      <td>...</td>\n",
       "      <td>...</td>\n",
       "      <td>...</td>\n",
       "      <td>...</td>\n",
       "    </tr>\n",
       "    <tr>\n",
       "      <th>113692</th>\n",
       "      <td>1945667</td>\n",
       "      <td>129072</td>\n",
       "      <td>Consumer loans</td>\n",
       "      <td>32130.0</td>\n",
       "      <td>Approved</td>\n",
       "      <td>0</td>\n",
       "      <td>F</td>\n",
       "      <td>N</td>\n",
       "      <td>Y</td>\n",
       "      <td>1</td>\n",
       "    </tr>\n",
       "    <tr>\n",
       "      <th>113693</th>\n",
       "      <td>2485785</td>\n",
       "      <td>129075</td>\n",
       "      <td>Consumer loans</td>\n",
       "      <td>39231.0</td>\n",
       "      <td>Approved</td>\n",
       "      <td>0</td>\n",
       "      <td>M</td>\n",
       "      <td>Y</td>\n",
       "      <td>Y</td>\n",
       "      <td>1</td>\n",
       "    </tr>\n",
       "    <tr>\n",
       "      <th>113694</th>\n",
       "      <td>2351820</td>\n",
       "      <td>129075</td>\n",
       "      <td>Consumer loans</td>\n",
       "      <td>45315.0</td>\n",
       "      <td>Unused offer</td>\n",
       "      <td>0</td>\n",
       "      <td>M</td>\n",
       "      <td>Y</td>\n",
       "      <td>Y</td>\n",
       "      <td>1</td>\n",
       "    </tr>\n",
       "    <tr>\n",
       "      <th>113695</th>\n",
       "      <td>2366713</td>\n",
       "      <td>129075</td>\n",
       "      <td>Consumer loans</td>\n",
       "      <td>28440.0</td>\n",
       "      <td>Approved</td>\n",
       "      <td>0</td>\n",
       "      <td>M</td>\n",
       "      <td>Y</td>\n",
       "      <td>Y</td>\n",
       "      <td>1</td>\n",
       "    </tr>\n",
       "    <tr>\n",
       "      <th>113696</th>\n",
       "      <td>1618341</td>\n",
       "      <td>129076</td>\n",
       "      <td>Consumer loans</td>\n",
       "      <td>82980.0</td>\n",
       "      <td>Approved</td>\n",
       "      <td>0</td>\n",
       "      <td>F</td>\n",
       "      <td>N</td>\n",
       "      <td>Y</td>\n",
       "      <td>0</td>\n",
       "    </tr>\n",
       "  </tbody>\n",
       "</table>\n",
       "<p>113697 rows × 10 columns</p>\n",
       "</div>"
      ],
      "text/plain": [
       "        SK_ID_PREV  SK_ID_CURR NAME_CONTRACT_TYPE  AMT_APPLICATION  \\\n",
       "0          1038818      100002     Consumer loans         179055.0   \n",
       "1          1810518      100003         Cash loans         900000.0   \n",
       "2          2636178      100003     Consumer loans         337500.0   \n",
       "3          2396755      100003     Consumer loans          68809.5   \n",
       "4          1564014      100004     Consumer loans          24282.0   \n",
       "...            ...         ...                ...              ...   \n",
       "113692     1945667      129072     Consumer loans          32130.0   \n",
       "113693     2485785      129075     Consumer loans          39231.0   \n",
       "113694     2351820      129075     Consumer loans          45315.0   \n",
       "113695     2366713      129075     Consumer loans          28440.0   \n",
       "113696     1618341      129076     Consumer loans          82980.0   \n",
       "\n",
       "       NAME_CONTRACT_STATUS  TARGET CODE_GENDER FLAG_OWN_CAR FLAG_OWN_REALTY  \\\n",
       "0                  Approved       1           F            N               Y   \n",
       "1                  Approved       0           F            N               N   \n",
       "2                  Approved       0           F            N               N   \n",
       "3                  Approved       0           F            N               N   \n",
       "4                  Approved       0           F            Y               Y   \n",
       "...                     ...     ...         ...          ...             ...   \n",
       "113692             Approved       0           F            N               Y   \n",
       "113693             Approved       0           M            Y               Y   \n",
       "113694         Unused offer       0           M            Y               Y   \n",
       "113695             Approved       0           M            Y               Y   \n",
       "113696             Approved       0           F            N               Y   \n",
       "\n",
       "        CNT_CHILDREN  \n",
       "0                  0  \n",
       "1                  0  \n",
       "2                  0  \n",
       "3                  0  \n",
       "4                  0  \n",
       "...              ...  \n",
       "113692             1  \n",
       "113693             1  \n",
       "113694             1  \n",
       "113695             1  \n",
       "113696             0  \n",
       "\n",
       "[113697 rows x 10 columns]"
      ]
     },
     "execution_count": 63,
     "metadata": {},
     "output_type": "execute_result"
    }
   ],
   "source": [
    "df"
   ]
  },
  {
   "cell_type": "markdown",
   "id": "656cc57e",
   "metadata": {},
   "source": [
    "#### Mengecek missing value dan tipe data dari setiap kolom"
   ]
  },
  {
   "cell_type": "code",
   "execution_count": 64,
   "id": "7b4433a9",
   "metadata": {},
   "outputs": [
    {
     "name": "stdout",
     "output_type": "stream",
     "text": [
      "<class 'pandas.core.frame.DataFrame'>\n",
      "Int64Index: 113697 entries, 0 to 113696\n",
      "Data columns (total 10 columns):\n",
      " #   Column                Non-Null Count   Dtype  \n",
      "---  ------                --------------   -----  \n",
      " 0   SK_ID_PREV            113697 non-null  int64  \n",
      " 1   SK_ID_CURR            113697 non-null  int64  \n",
      " 2   NAME_CONTRACT_TYPE    113697 non-null  object \n",
      " 3   AMT_APPLICATION       113697 non-null  float64\n",
      " 4   NAME_CONTRACT_STATUS  113697 non-null  object \n",
      " 5   TARGET                113697 non-null  int64  \n",
      " 6   CODE_GENDER           113697 non-null  object \n",
      " 7   FLAG_OWN_CAR          113697 non-null  object \n",
      " 8   FLAG_OWN_REALTY       113697 non-null  object \n",
      " 9   CNT_CHILDREN          113697 non-null  int64  \n",
      "dtypes: float64(1), int64(4), object(5)\n",
      "memory usage: 9.5+ MB\n"
     ]
    }
   ],
   "source": [
    "df.info()"
   ]
  },
  {
   "cell_type": "markdown",
   "id": "fab58659",
   "metadata": {},
   "source": [
    "#### Mengecek unique value dari beberapa kolom"
   ]
  },
  {
   "cell_type": "code",
   "execution_count": 66,
   "id": "84eb86c6",
   "metadata": {},
   "outputs": [
    {
     "name": "stdout",
     "output_type": "stream",
     "text": [
      "Unique value dari kolom NAME_CONTRACT_TYPE -> ['Consumer loans' 'Cash loans' 'Revolving loans' 'XNA']\n",
      "Unique value dari kolom NAME_CONTRACT_STATUS -> ['Approved' 'Canceled' 'Refused' 'Unused offer']\n",
      "Unique value dari kolom TARGET -> [1 0]\n",
      "Unique value dari kolom CODE_GENDER -> ['F' 'M']\n",
      "Unique value dari kolom FLAG_OWN_CAR -> ['N' 'Y']\n",
      "Unique value dari kolom FLAG_OWN_REALTY -> ['Y' 'N']\n",
      "Unique value dari kolom CNT_CHILDREN -> [0 1 2 3 4 7 5 6 8 9]\n"
     ]
    }
   ],
   "source": [
    "col_check = [\"NAME_CONTRACT_TYPE\", \"NAME_CONTRACT_STATUS\", \"TARGET\",\n",
    "             \"CODE_GENDER\", \"FLAG_OWN_CAR\", \"FLAG_OWN_REALTY\", \"CNT_CHILDREN\"]\n",
    "\n",
    "for col in col_check:\n",
    "    print(\"Unique value dari kolom {} -> {}\".format(col, df[col].unique()))"
   ]
  },
  {
   "cell_type": "markdown",
   "id": "4ce1ab6a",
   "metadata": {},
   "source": [
    "#### Melihat Summary Statistics"
   ]
  },
  {
   "cell_type": "code",
   "execution_count": 67,
   "id": "bc7c0a3f",
   "metadata": {},
   "outputs": [
    {
     "data": {
      "text/html": [
       "<div>\n",
       "<style scoped>\n",
       "    .dataframe tbody tr th:only-of-type {\n",
       "        vertical-align: middle;\n",
       "    }\n",
       "\n",
       "    .dataframe tbody tr th {\n",
       "        vertical-align: top;\n",
       "    }\n",
       "\n",
       "    .dataframe thead th {\n",
       "        text-align: right;\n",
       "    }\n",
       "</style>\n",
       "<table border=\"1\" class=\"dataframe\">\n",
       "  <thead>\n",
       "    <tr style=\"text-align: right;\">\n",
       "      <th></th>\n",
       "      <th>SK_ID_PREV</th>\n",
       "      <th>SK_ID_CURR</th>\n",
       "      <th>AMT_APPLICATION</th>\n",
       "      <th>TARGET</th>\n",
       "      <th>CNT_CHILDREN</th>\n",
       "    </tr>\n",
       "  </thead>\n",
       "  <tbody>\n",
       "    <tr>\n",
       "      <th>count</th>\n",
       "      <td>1.136970e+05</td>\n",
       "      <td>113697.000000</td>\n",
       "      <td>1.136970e+05</td>\n",
       "      <td>113697.000000</td>\n",
       "      <td>113697.000000</td>\n",
       "    </tr>\n",
       "    <tr>\n",
       "      <th>mean</th>\n",
       "      <td>1.920334e+06</td>\n",
       "      <td>114510.453073</td>\n",
       "      <td>1.778993e+05</td>\n",
       "      <td>0.086774</td>\n",
       "      <td>0.408357</td>\n",
       "    </tr>\n",
       "    <tr>\n",
       "      <th>std</th>\n",
       "      <td>5.328807e+05</td>\n",
       "      <td>8421.431015</td>\n",
       "      <td>2.983279e+05</td>\n",
       "      <td>0.281506</td>\n",
       "      <td>0.717586</td>\n",
       "    </tr>\n",
       "    <tr>\n",
       "      <th>min</th>\n",
       "      <td>1.000045e+06</td>\n",
       "      <td>100002.000000</td>\n",
       "      <td>0.000000e+00</td>\n",
       "      <td>0.000000</td>\n",
       "      <td>0.000000</td>\n",
       "    </tr>\n",
       "    <tr>\n",
       "      <th>25%</th>\n",
       "      <td>1.459920e+06</td>\n",
       "      <td>107217.000000</td>\n",
       "      <td>2.025000e+04</td>\n",
       "      <td>0.000000</td>\n",
       "      <td>0.000000</td>\n",
       "    </tr>\n",
       "    <tr>\n",
       "      <th>50%</th>\n",
       "      <td>1.917834e+06</td>\n",
       "      <td>114553.000000</td>\n",
       "      <td>7.154100e+04</td>\n",
       "      <td>0.000000</td>\n",
       "      <td>0.000000</td>\n",
       "    </tr>\n",
       "    <tr>\n",
       "      <th>75%</th>\n",
       "      <td>2.381625e+06</td>\n",
       "      <td>121761.000000</td>\n",
       "      <td>1.812915e+05</td>\n",
       "      <td>0.000000</td>\n",
       "      <td>1.000000</td>\n",
       "    </tr>\n",
       "    <tr>\n",
       "      <th>max</th>\n",
       "      <td>2.845378e+06</td>\n",
       "      <td>129076.000000</td>\n",
       "      <td>4.185000e+06</td>\n",
       "      <td>1.000000</td>\n",
       "      <td>9.000000</td>\n",
       "    </tr>\n",
       "  </tbody>\n",
       "</table>\n",
       "</div>"
      ],
      "text/plain": [
       "         SK_ID_PREV     SK_ID_CURR  AMT_APPLICATION         TARGET  \\\n",
       "count  1.136970e+05  113697.000000     1.136970e+05  113697.000000   \n",
       "mean   1.920334e+06  114510.453073     1.778993e+05       0.086774   \n",
       "std    5.328807e+05    8421.431015     2.983279e+05       0.281506   \n",
       "min    1.000045e+06  100002.000000     0.000000e+00       0.000000   \n",
       "25%    1.459920e+06  107217.000000     2.025000e+04       0.000000   \n",
       "50%    1.917834e+06  114553.000000     7.154100e+04       0.000000   \n",
       "75%    2.381625e+06  121761.000000     1.812915e+05       0.000000   \n",
       "max    2.845378e+06  129076.000000     4.185000e+06       1.000000   \n",
       "\n",
       "        CNT_CHILDREN  \n",
       "count  113697.000000  \n",
       "mean        0.408357  \n",
       "std         0.717586  \n",
       "min         0.000000  \n",
       "25%         0.000000  \n",
       "50%         0.000000  \n",
       "75%         1.000000  \n",
       "max         9.000000  "
      ]
     },
     "execution_count": 67,
     "metadata": {},
     "output_type": "execute_result"
    }
   ],
   "source": [
    "df.describe()"
   ]
  },
  {
   "cell_type": "code",
   "execution_count": 68,
   "id": "c8995e72",
   "metadata": {},
   "outputs": [
    {
     "data": {
      "text/html": [
       "<div>\n",
       "<style scoped>\n",
       "    .dataframe tbody tr th:only-of-type {\n",
       "        vertical-align: middle;\n",
       "    }\n",
       "\n",
       "    .dataframe tbody tr th {\n",
       "        vertical-align: top;\n",
       "    }\n",
       "\n",
       "    .dataframe thead th {\n",
       "        text-align: right;\n",
       "    }\n",
       "</style>\n",
       "<table border=\"1\" class=\"dataframe\">\n",
       "  <thead>\n",
       "    <tr style=\"text-align: right;\">\n",
       "      <th></th>\n",
       "      <th>NAME_CONTRACT_TYPE</th>\n",
       "      <th>NAME_CONTRACT_STATUS</th>\n",
       "      <th>CODE_GENDER</th>\n",
       "      <th>FLAG_OWN_CAR</th>\n",
       "      <th>FLAG_OWN_REALTY</th>\n",
       "    </tr>\n",
       "  </thead>\n",
       "  <tbody>\n",
       "    <tr>\n",
       "      <th>count</th>\n",
       "      <td>113697</td>\n",
       "      <td>113697</td>\n",
       "      <td>113697</td>\n",
       "      <td>113697</td>\n",
       "      <td>113697</td>\n",
       "    </tr>\n",
       "    <tr>\n",
       "      <th>unique</th>\n",
       "      <td>4</td>\n",
       "      <td>4</td>\n",
       "      <td>2</td>\n",
       "      <td>2</td>\n",
       "      <td>2</td>\n",
       "    </tr>\n",
       "    <tr>\n",
       "      <th>top</th>\n",
       "      <td>Cash loans</td>\n",
       "      <td>Approved</td>\n",
       "      <td>F</td>\n",
       "      <td>N</td>\n",
       "      <td>Y</td>\n",
       "    </tr>\n",
       "    <tr>\n",
       "      <th>freq</th>\n",
       "      <td>51308</td>\n",
       "      <td>71499</td>\n",
       "      <td>90347</td>\n",
       "      <td>75309</td>\n",
       "      <td>82376</td>\n",
       "    </tr>\n",
       "  </tbody>\n",
       "</table>\n",
       "</div>"
      ],
      "text/plain": [
       "       NAME_CONTRACT_TYPE NAME_CONTRACT_STATUS CODE_GENDER FLAG_OWN_CAR  \\\n",
       "count              113697               113697      113697       113697   \n",
       "unique                  4                    4           2            2   \n",
       "top            Cash loans             Approved           F            N   \n",
       "freq                51308                71499       90347        75309   \n",
       "\n",
       "       FLAG_OWN_REALTY  \n",
       "count           113697  \n",
       "unique               2  \n",
       "top                  Y  \n",
       "freq             82376  "
      ]
     },
     "execution_count": 68,
     "metadata": {},
     "output_type": "execute_result"
    }
   ],
   "source": [
    "df.describe(include=\"object\")"
   ]
  },
  {
   "cell_type": "markdown",
   "id": "70529e43",
   "metadata": {},
   "source": [
    "# CASE"
   ]
  },
  {
   "cell_type": "markdown",
   "id": "f705950f",
   "metadata": {},
   "source": [
    "#### 1. Berapa banyak pengajuan kredit yang disetujui dari pelanggan wanita yang memiliki anak dan tidak memiliki masalah/kesulitan dalam proses pembayaran (TARGET = 0)? "
   ]
  },
  {
   "cell_type": "code",
   "execution_count": 69,
   "id": "bcf334ad",
   "metadata": {},
   "outputs": [
    {
     "name": "stdout",
     "output_type": "stream",
     "text": [
      "\n",
      "Banyak pengajuan kredit yang disetujui dari pelanggan wanita yang memiliki anak dan tidak memiliki masalah/kesulitan\n",
      "dalam proses pembayaran adalah : 15637 pengajuan kredit\n",
      "\n"
     ]
    }
   ],
   "source": [
    "case1 = df.loc[(df[\"NAME_CONTRACT_STATUS\"]==\"Approved\") & (df[\"CODE_GENDER\"]==\"F\") &\n",
    "               (df[\"CNT_CHILDREN\"]>0) & (df[\"TARGET\"]==0)]\n",
    "\n",
    "print(\"\"\"\n",
    "Banyak pengajuan kredit yang disetujui dari pelanggan wanita yang memiliki anak dan tidak memiliki masalah/kesulitan\n",
    "dalam proses pembayaran adalah : {} pengajuan kredit\n",
    "\"\"\".format(len(case1)))"
   ]
  },
  {
   "cell_type": "markdown",
   "id": "b74cbb12",
   "metadata": {},
   "source": [
    "#### 2. Tipe kontrak (NAME_CONTRACT_TYPE) apa yang memiliki pengajuan kredit yang paling banyak disetujui dari pelanggan wanita yang memiliki anak dan tidak memiliki masalah/kesulitan dalam proses pembayaran (TARGET = 0)?"
   ]
  },
  {
   "cell_type": "code",
   "execution_count": 70,
   "id": "25cb7bc3",
   "metadata": {},
   "outputs": [
    {
     "data": {
      "text/html": [
       "<div>\n",
       "<style scoped>\n",
       "    .dataframe tbody tr th:only-of-type {\n",
       "        vertical-align: middle;\n",
       "    }\n",
       "\n",
       "    .dataframe tbody tr th {\n",
       "        vertical-align: top;\n",
       "    }\n",
       "\n",
       "    .dataframe thead th {\n",
       "        text-align: right;\n",
       "    }\n",
       "</style>\n",
       "<table border=\"1\" class=\"dataframe\">\n",
       "  <thead>\n",
       "    <tr style=\"text-align: right;\">\n",
       "      <th></th>\n",
       "      <th>SK_ID_PREV</th>\n",
       "    </tr>\n",
       "    <tr>\n",
       "      <th>NAME_CONTRACT_TYPE</th>\n",
       "      <th></th>\n",
       "    </tr>\n",
       "  </thead>\n",
       "  <tbody>\n",
       "    <tr>\n",
       "      <th>Cash loans</th>\n",
       "      <td>3646</td>\n",
       "    </tr>\n",
       "    <tr>\n",
       "      <th>Consumer loans</th>\n",
       "      <td>10585</td>\n",
       "    </tr>\n",
       "    <tr>\n",
       "      <th>Revolving loans</th>\n",
       "      <td>1406</td>\n",
       "    </tr>\n",
       "  </tbody>\n",
       "</table>\n",
       "</div>"
      ],
      "text/plain": [
       "                    SK_ID_PREV\n",
       "NAME_CONTRACT_TYPE            \n",
       "Cash loans                3646\n",
       "Consumer loans           10585\n",
       "Revolving loans           1406"
      ]
     },
     "execution_count": 70,
     "metadata": {},
     "output_type": "execute_result"
    }
   ],
   "source": [
    "case1.groupby(by=\"NAME_CONTRACT_TYPE\").count()[[\"SK_ID_PREV\"]]"
   ]
  },
  {
   "cell_type": "code",
   "execution_count": 71,
   "id": "b5a79fcc",
   "metadata": {},
   "outputs": [
    {
     "name": "stdout",
     "output_type": "stream",
     "text": [
      "\n",
      "Tipe kontrak (NAME_CONTRACT_TYPE) yang memiliki pengajuan kredit yang paling banyak disetujui dari pelanggan wanita\n",
      "yang memiliki anak dan tidak memiliki masalah/kesulitan dalam proses pembayaran adalah Consumer loans\n",
      "\n"
     ]
    }
   ],
   "source": [
    "print(\"\"\"\n",
    "Tipe kontrak (NAME_CONTRACT_TYPE) yang memiliki pengajuan kredit yang paling banyak disetujui dari pelanggan wanita\n",
    "yang memiliki anak dan tidak memiliki masalah/kesulitan dalam proses pembayaran adalah Consumer loans\n",
    "\"\"\")"
   ]
  },
  {
   "cell_type": "markdown",
   "id": "5ad367e8",
   "metadata": {},
   "source": [
    "#### 3. Berapa banyak pengajuan kredit yang disetujui dari pelanggan wanita yang memiliki anak dan tidak memiliki masalah/kesulitan dalam proses pembayaran (TARGET = 0) untuk tipe kontrak pada soal nomor 2?"
   ]
  },
  {
   "cell_type": "code",
   "execution_count": 72,
   "id": "eb1639ed",
   "metadata": {},
   "outputs": [
    {
     "name": "stdout",
     "output_type": "stream",
     "text": [
      "\n",
      "banyak pengajuan kredit yang disetujui dari pelanggan wanita yang memiliki anak dan tidak memiliki masalah/kesulitan dalam\n",
      "proses pembayaran (TARGET = 0) untuk tipe kontrak pada soal nomor 2 adalah : 10585 pengajuan kredit\n",
      "\n"
     ]
    }
   ],
   "source": [
    "print(\"\"\"\n",
    "banyak pengajuan kredit yang disetujui dari pelanggan wanita yang memiliki anak dan tidak memiliki masalah/kesulitan dalam\n",
    "proses pembayaran (TARGET = 0) untuk tipe kontrak pada soal nomor 2 adalah : 10585 pengajuan kredit\n",
    "\"\"\")"
   ]
  },
  {
   "cell_type": "markdown",
   "id": "c4549d76",
   "metadata": {},
   "source": [
    "#### 4. Tipe kontrak (NAME_CONTRACT_TYPE) apa yang memiliki pengajuan kredit yang paling banyak disetujui kedua dari pelanggan wanita yang memiliki anak dan tidak memiliki masalah/kesulitan dalam proses pembayaran (TARGET = 0)"
   ]
  },
  {
   "cell_type": "code",
   "execution_count": 75,
   "id": "cf51c016",
   "metadata": {},
   "outputs": [
    {
     "name": "stdout",
     "output_type": "stream",
     "text": [
      "\n",
      "Tipe kontrak (NAME_CONTRACT_TYPE) yang memiliki pengajuan kredit yang paling banyak disetujui kedua dari pelanggan wanita\n",
      "yang memiliki anak dan tidak memiliki masalah/kesulitan dalam proses pembayaran adalah Cash loans\n",
      "\n"
     ]
    }
   ],
   "source": [
    "print(\"\"\"\n",
    "Tipe kontrak (NAME_CONTRACT_TYPE) yang memiliki pengajuan kredit yang paling banyak disetujui kedua dari pelanggan wanita\n",
    "yang memiliki anak dan tidak memiliki masalah/kesulitan dalam proses pembayaran adalah Cash loans\n",
    "\"\"\")"
   ]
  },
  {
   "cell_type": "markdown",
   "id": "256739d3",
   "metadata": {},
   "source": [
    "#### 5. Berapa banyak pengajuan kredit yang disetujui dari pelanggan wanita yang memiliki anak dan tidak memiliki masalah/kesulitan dalam proses pembayaran (TARGET = 0) untuk tipe kontrak pada soal nomor 4?"
   ]
  },
  {
   "cell_type": "code",
   "execution_count": 76,
   "id": "f23190b6",
   "metadata": {},
   "outputs": [
    {
     "name": "stdout",
     "output_type": "stream",
     "text": [
      "\n",
      "banyak pengajuan kredit yang disetujui dari pelanggan wanita yang memiliki anak dan tidak memiliki masalah/kesulitan dalam\n",
      "proses pembayaran (TARGET = 0) untuk tipe kontrak pada soal nomor 4 adalah : 3646 pengajuan kredit\n",
      "\n"
     ]
    }
   ],
   "source": [
    "print(\"\"\"\n",
    "banyak pengajuan kredit yang disetujui dari pelanggan wanita yang memiliki anak dan tidak memiliki masalah/kesulitan dalam\n",
    "proses pembayaran (TARGET = 0) untuk tipe kontrak pada soal nomor 4 adalah : 3646 pengajuan kredit\n",
    "\"\"\")"
   ]
  },
  {
   "cell_type": "markdown",
   "id": "0c7c6645",
   "metadata": {},
   "source": [
    "#### 6. Berapa banyak pelanggan wanita yang memiliki anak dan tidak memiliki kesulitan pembayaran dan memiliki sejarah pengajuan pinjaman yang disetujui minimal sebanyak 3 kali untuk jenis kontrak paling diminati (jawaban nomor 2)?"
   ]
  },
  {
   "cell_type": "code",
   "execution_count": 88,
   "id": "400dd270",
   "metadata": {},
   "outputs": [],
   "source": [
    "case2 = df.loc[(df[\"NAME_CONTRACT_STATUS\"]==\"Approved\") & (df[\"CODE_GENDER\"]==\"F\") &\n",
    "               (df[\"CNT_CHILDREN\"]>0) & (df[\"TARGET\"]==0) & (df[\"NAME_CONTRACT_TYPE\"]==\"Consumer loans\")]\n",
    "\n",
    "case2 = case2.groupby(by=\"SK_ID_CURR\").count()[[\"SK_ID_PREV\"]]"
   ]
  },
  {
   "cell_type": "code",
   "execution_count": 90,
   "id": "e4f721b8",
   "metadata": {},
   "outputs": [
    {
     "data": {
      "text/html": [
       "<div>\n",
       "<style scoped>\n",
       "    .dataframe tbody tr th:only-of-type {\n",
       "        vertical-align: middle;\n",
       "    }\n",
       "\n",
       "    .dataframe tbody tr th {\n",
       "        vertical-align: top;\n",
       "    }\n",
       "\n",
       "    .dataframe thead th {\n",
       "        text-align: right;\n",
       "    }\n",
       "</style>\n",
       "<table border=\"1\" class=\"dataframe\">\n",
       "  <thead>\n",
       "    <tr style=\"text-align: right;\">\n",
       "      <th></th>\n",
       "      <th>SK_ID_PREV</th>\n",
       "    </tr>\n",
       "    <tr>\n",
       "      <th>SK_ID_CURR</th>\n",
       "      <th></th>\n",
       "    </tr>\n",
       "  </thead>\n",
       "  <tbody>\n",
       "    <tr>\n",
       "      <th>100009</th>\n",
       "      <td>7</td>\n",
       "    </tr>\n",
       "    <tr>\n",
       "      <th>100014</th>\n",
       "      <td>2</td>\n",
       "    </tr>\n",
       "    <tr>\n",
       "      <th>100025</th>\n",
       "      <td>3</td>\n",
       "    </tr>\n",
       "    <tr>\n",
       "      <th>100026</th>\n",
       "      <td>1</td>\n",
       "    </tr>\n",
       "    <tr>\n",
       "      <th>100029</th>\n",
       "      <td>1</td>\n",
       "    </tr>\n",
       "    <tr>\n",
       "      <th>...</th>\n",
       "      <td>...</td>\n",
       "    </tr>\n",
       "    <tr>\n",
       "      <th>129052</th>\n",
       "      <td>3</td>\n",
       "    </tr>\n",
       "    <tr>\n",
       "      <th>129054</th>\n",
       "      <td>2</td>\n",
       "    </tr>\n",
       "    <tr>\n",
       "      <th>129065</th>\n",
       "      <td>2</td>\n",
       "    </tr>\n",
       "    <tr>\n",
       "      <th>129071</th>\n",
       "      <td>2</td>\n",
       "    </tr>\n",
       "    <tr>\n",
       "      <th>129072</th>\n",
       "      <td>5</td>\n",
       "    </tr>\n",
       "  </tbody>\n",
       "</table>\n",
       "<p>4899 rows × 1 columns</p>\n",
       "</div>"
      ],
      "text/plain": [
       "            SK_ID_PREV\n",
       "SK_ID_CURR            \n",
       "100009               7\n",
       "100014               2\n",
       "100025               3\n",
       "100026               1\n",
       "100029               1\n",
       "...                ...\n",
       "129052               3\n",
       "129054               2\n",
       "129065               2\n",
       "129071               2\n",
       "129072               5\n",
       "\n",
       "[4899 rows x 1 columns]"
      ]
     },
     "execution_count": 90,
     "metadata": {},
     "output_type": "execute_result"
    }
   ],
   "source": [
    "#Mengecek 5 data teratas dan 5 data terbawah\n",
    "case2"
   ]
  },
  {
   "cell_type": "code",
   "execution_count": 97,
   "id": "b5000961",
   "metadata": {},
   "outputs": [
    {
     "data": {
      "text/html": [
       "<div>\n",
       "<style scoped>\n",
       "    .dataframe tbody tr th:only-of-type {\n",
       "        vertical-align: middle;\n",
       "    }\n",
       "\n",
       "    .dataframe tbody tr th {\n",
       "        vertical-align: top;\n",
       "    }\n",
       "\n",
       "    .dataframe thead th {\n",
       "        text-align: right;\n",
       "    }\n",
       "</style>\n",
       "<table border=\"1\" class=\"dataframe\">\n",
       "  <thead>\n",
       "    <tr style=\"text-align: right;\">\n",
       "      <th></th>\n",
       "      <th>SK_ID_PREV</th>\n",
       "    </tr>\n",
       "    <tr>\n",
       "      <th>SK_ID_CURR</th>\n",
       "      <th></th>\n",
       "    </tr>\n",
       "  </thead>\n",
       "  <tbody>\n",
       "    <tr>\n",
       "      <th>100009</th>\n",
       "      <td>7</td>\n",
       "    </tr>\n",
       "    <tr>\n",
       "      <th>100025</th>\n",
       "      <td>3</td>\n",
       "    </tr>\n",
       "    <tr>\n",
       "      <th>100059</th>\n",
       "      <td>3</td>\n",
       "    </tr>\n",
       "    <tr>\n",
       "      <th>100069</th>\n",
       "      <td>5</td>\n",
       "    </tr>\n",
       "    <tr>\n",
       "      <th>100087</th>\n",
       "      <td>3</td>\n",
       "    </tr>\n",
       "    <tr>\n",
       "      <th>...</th>\n",
       "      <td>...</td>\n",
       "    </tr>\n",
       "    <tr>\n",
       "      <th>129011</th>\n",
       "      <td>3</td>\n",
       "    </tr>\n",
       "    <tr>\n",
       "      <th>129016</th>\n",
       "      <td>8</td>\n",
       "    </tr>\n",
       "    <tr>\n",
       "      <th>129044</th>\n",
       "      <td>4</td>\n",
       "    </tr>\n",
       "    <tr>\n",
       "      <th>129052</th>\n",
       "      <td>3</td>\n",
       "    </tr>\n",
       "    <tr>\n",
       "      <th>129072</th>\n",
       "      <td>5</td>\n",
       "    </tr>\n",
       "  </tbody>\n",
       "</table>\n",
       "<p>1456 rows × 1 columns</p>\n",
       "</div>"
      ],
      "text/plain": [
       "            SK_ID_PREV\n",
       "SK_ID_CURR            \n",
       "100009               7\n",
       "100025               3\n",
       "100059               3\n",
       "100069               5\n",
       "100087               3\n",
       "...                ...\n",
       "129011               3\n",
       "129016               8\n",
       "129044               4\n",
       "129052               3\n",
       "129072               5\n",
       "\n",
       "[1456 rows x 1 columns]"
      ]
     },
     "execution_count": 97,
     "metadata": {},
     "output_type": "execute_result"
    }
   ],
   "source": [
    "#Mengecek SK_ID_CURR (pelanggan) yang disetujui minimal sebanyak 3 kali\n",
    "case2.loc[case2[\"SK_ID_PREV\"]>=3]"
   ]
  },
  {
   "cell_type": "code",
   "execution_count": 96,
   "id": "50c60fbe",
   "metadata": {},
   "outputs": [
    {
     "name": "stdout",
     "output_type": "stream",
     "text": [
      "\n",
      "banyak pelanggan wanita yang memiliki anak dan tidak memiliki kesulitan pembayaran dan memiliki sejarah pengajuan pinjaman\n",
      "yang disetujui minimal sebanyak 3 kali untuk jenis kontrak paling diminati (jawaban nomor 2) adalah sebanyak 1456 orang\n",
      "\n"
     ]
    }
   ],
   "source": [
    "print(\"\"\"\n",
    "banyak pelanggan wanita yang memiliki anak dan tidak memiliki kesulitan pembayaran dan memiliki sejarah pengajuan pinjaman\n",
    "yang disetujui minimal sebanyak 3 kali untuk jenis kontrak paling diminati (jawaban nomor 2) adalah sebanyak 1456 orang\n",
    "\"\"\")"
   ]
  },
  {
   "cell_type": "code",
   "execution_count": null,
   "id": "2cd99dbc",
   "metadata": {},
   "outputs": [],
   "source": []
  }
 ],
 "metadata": {
  "kernelspec": {
   "display_name": "Python 3 (ipykernel)",
   "language": "python",
   "name": "python3"
  },
  "language_info": {
   "codemirror_mode": {
    "name": "ipython",
    "version": 3
   },
   "file_extension": ".py",
   "mimetype": "text/x-python",
   "name": "python",
   "nbconvert_exporter": "python",
   "pygments_lexer": "ipython3",
   "version": "3.9.7"
  }
 },
 "nbformat": 4,
 "nbformat_minor": 5
}
